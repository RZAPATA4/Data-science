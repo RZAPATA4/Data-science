{
 "cells": [
  {
   "cell_type": "markdown",
   "id": "d44e8a05-183a-445b-9a43-9175ab7e74fb",
   "metadata": {},
   "source": [
    "# Data Science Tools and Ecosystem"
   ]
  },
  {
   "cell_type": "markdown",
   "id": "f899ccb0-b275-45ce-bc48-add796977233",
   "metadata": {},
   "source": [
    "### In this notebook, Data Science Tools and Ecosystems are summarized.\n",
    "\n"
   ]
  },
  {
   "cell_type": "markdown",
   "id": "4af535b9-8aa2-4a5b-afe1-22480aabd7fd",
   "metadata": {},
   "source": [
    "**Objectives:**\n",
    " - Understand Common Data Science Tools\n",
    " - Learn the different types of libraries\n",
    " - Learn about R and R Studio\n",
    " - Learn about Jupyter and Jupyter Labs"
   ]
  },
  {
   "cell_type": "markdown",
   "id": "246a6584-2d42-41a3-a9a3-3211c5cfc340",
   "metadata": {},
   "source": [
    "#### Some of the popular languages that Data Scientists use are:\n",
    "1. Python\n",
    "2. R\n",
    "3. SQL\n",
    "4. Julia\n",
    "5. Scala"
   ]
  },
  {
   "cell_type": "markdown",
   "id": "ab3da6d1-8ac5-4443-b94e-61772ebde607",
   "metadata": {},
   "source": [
    "#### Some of the commonly used libraries used by Data Scientists include:\n",
    "- Pandas\n",
    "- NumPy\n",
    "- PyTorch"
   ]
  },
  {
   "cell_type": "markdown",
   "id": "67add9c4-ef02-4981-83a4-22a46996e047",
   "metadata": {},
   "source": [
    "#### Data Science Open Source Tools\n",
    "| Data Science Tools|\n",
    "|-----|\n",
    "| Apache Sparck |\n",
    "| RStudio ||\n",
    "Jupyter |"
   ]
  },
  {
   "cell_type": "markdown",
   "id": "a5ccebd3-701a-49e5-9eff-47d892bd8789",
   "metadata": {},
   "source": [
    "### Below are a few examples of evaluating arithmetic expressions in Python.\n",
    "\n"
   ]
  },
  {
   "cell_type": "raw",
   "id": "41cac15c-8ff2-43df-bc10-eb1a4bca5431",
   "metadata": {},
   "source": [
    "This a simple arithmetic expression to mutiply then add integers"
   ]
  },
  {
   "cell_type": "code",
   "execution_count": 33,
   "id": "0e54b5ff-7206-4da9-94f4-d5ebd77abe4b",
   "metadata": {},
   "outputs": [
    {
     "name": "stdout",
     "output_type": "stream",
     "text": [
      "17\n"
     ]
    }
   ],
   "source": [
    "print((3*4)+5)"
   ]
  },
  {
   "cell_type": "raw",
   "id": "532b5942-4954-47fd-b661-0ed482f66839",
   "metadata": {},
   "source": [
    "This will convert 200 minutes to hours by diving by 60"
   ]
  },
  {
   "cell_type": "code",
   "execution_count": 51,
   "id": "5f447d52-6e41-4bd7-9817-79457cb438da",
   "metadata": {},
   "outputs": [
    {
     "name": "stdin",
     "output_type": "stream",
     "text": [
      "Enter time in minutes 200\n"
     ]
    },
    {
     "name": "stdout",
     "output_type": "stream",
     "text": [
      "Hours= 3\n",
      "Minutes= 20\n"
     ]
    }
   ],
   "source": [
    "min=int(input(\"Enter time in minutes\"))\n",
    "h=min//60\n",
    "m=min%60\n",
    "print(\"Hours=\",h)\n",
    "print(\"Minutes=\",m)"
   ]
  },
  {
   "cell_type": "markdown",
   "id": "6cd63e75-ea65-4bb4-aa1d-501ffbe431fe",
   "metadata": {},
   "source": [
    "## Author\n",
    "Ricardo Zapata "
   ]
  }
 ],
 "metadata": {
  "kernelspec": {
   "display_name": "Python [conda env:base] *",
   "language": "python",
   "name": "conda-base-py"
  },
  "language_info": {
   "codemirror_mode": {
    "name": "ipython",
    "version": 3
   },
   "file_extension": ".py",
   "mimetype": "text/x-python",
   "name": "python",
   "nbconvert_exporter": "python",
   "pygments_lexer": "ipython3",
   "version": "3.12.7"
  }
 },
 "nbformat": 4,
 "nbformat_minor": 5
}
